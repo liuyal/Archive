{
 "cells": [
  {
   "cell_type": "code",
   "execution_count": 1,
   "metadata": {},
   "outputs": [],
   "source": [
    "%load_ext sql\n",
    "%sql sqlite:///demo.db"
   ]
  },
  {
   "cell_type": "markdown",
   "metadata": {},
   "source": [
    "### Q1.1"
   ]
  },
  {
   "cell_type": "code",
   "execution_count": 2,
   "metadata": {},
   "outputs": [
    {
     "name": "stdout",
     "output_type": "stream",
     "text": [
      " * sqlite:///demo.db\n",
      "Done.\n",
      "Done.\n",
      "1 rows affected.\n",
      "1 rows affected.\n",
      "1 rows affected.\n",
      "1 rows affected.\n",
      "1 rows affected.\n",
      "Done.\n"
     ]
    },
    {
     "data": {
      "text/html": [
       "<table>\n",
       "    <tr>\n",
       "        <th>tweet</th>\n",
       "        <th>cat</th>\n",
       "        <th>dog</th>\n",
       "        <th>fish</th>\n",
       "        <th>taco</th>\n",
       "        <th>lunch</th>\n",
       "        <th>beach</th>\n",
       "        <th>circle</th>\n",
       "    </tr>\n",
       "    <tr>\n",
       "        <td>A</td>\n",
       "        <td>0</td>\n",
       "        <td>0</td>\n",
       "        <td>1</td>\n",
       "        <td>1</td>\n",
       "        <td>1</td>\n",
       "        <td>1</td>\n",
       "        <td>0</td>\n",
       "    </tr>\n",
       "    <tr>\n",
       "        <td>B</td>\n",
       "        <td>1</td>\n",
       "        <td>1</td>\n",
       "        <td>0</td>\n",
       "        <td>0</td>\n",
       "        <td>0</td>\n",
       "        <td>0</td>\n",
       "        <td>1</td>\n",
       "    </tr>\n",
       "    <tr>\n",
       "        <td>C</td>\n",
       "        <td>0</td>\n",
       "        <td>1</td>\n",
       "        <td>0</td>\n",
       "        <td>0</td>\n",
       "        <td>0</td>\n",
       "        <td>0</td>\n",
       "        <td>1</td>\n",
       "    </tr>\n",
       "    <tr>\n",
       "        <td>D</td>\n",
       "        <td>0</td>\n",
       "        <td>0</td>\n",
       "        <td>2</td>\n",
       "        <td>1</td>\n",
       "        <td>2</td>\n",
       "        <td>1</td>\n",
       "        <td>1</td>\n",
       "    </tr>\n",
       "    <tr>\n",
       "        <td>E</td>\n",
       "        <td>1</td>\n",
       "        <td>0</td>\n",
       "        <td>1</td>\n",
       "        <td>1</td>\n",
       "        <td>0</td>\n",
       "        <td>0</td>\n",
       "        <td>0</td>\n",
       "    </tr>\n",
       "</table>"
      ],
      "text/plain": [
       "[('A', 0, 0, 1, 1, 1, 1, 0),\n",
       " ('B', 1, 1, 0, 0, 0, 0, 1),\n",
       " ('C', 0, 1, 0, 0, 0, 0, 1),\n",
       " ('D', 0, 0, 2, 1, 2, 1, 1),\n",
       " ('E', 1, 0, 1, 1, 0, 0, 0)]"
      ]
     },
     "execution_count": 2,
     "metadata": {},
     "output_type": "execute_result"
    }
   ],
   "source": [
    "%%sql\n",
    "\n",
    "DROP TABLE IF EXISTS tweets;\n",
    "\n",
    "CREATE TABLE tweets(tweet varchar(255), cat int, dog int, fish int, taco int, lunch int, beach int, circle int);\n",
    "\n",
    "INSERT INTO tweets VALUES(\"A\", 0,0,1,1,1,1,0);\n",
    "INSERT INTO tweets VALUES(\"B\", 1,1,0,0,0,0,1);\n",
    "INSERT INTO tweets VALUES(\"C\", 0,1,0,0,0,0,1);\n",
    "INSERT INTO tweets VALUES(\"D\", 0,0,2,1,2,1,1);\n",
    "INSERT INTO tweets VALUES(\"E\", 1,0,1,1,0,0,0);\n",
    "\n",
    "select * from tweets;\n"
   ]
  },
  {
   "cell_type": "code",
   "execution_count": 6,
   "metadata": {},
   "outputs": [
    {
     "name": "stdout",
     "output_type": "stream",
     "text": [
      " * sqlite:///demo.db\n",
      "Done.\n"
     ]
    },
    {
     "data": {
      "text/html": [
       "<table>\n",
       "    <tr>\n",
       "        <th>sum(cat)</th>\n",
       "        <th>sum(dog)</th>\n",
       "    </tr>\n",
       "    <tr>\n",
       "        <td>2</td>\n",
       "        <td>2</td>\n",
       "    </tr>\n",
       "</table>"
      ],
      "text/plain": [
       "[(2, 2)]"
      ]
     },
     "execution_count": 6,
     "metadata": {},
     "output_type": "execute_result"
    }
   ],
   "source": [
    "%%sql \n",
    "\n",
    "select sum(cat), sum(dog) from tweets"
   ]
  },
  {
   "cell_type": "code",
   "execution_count": 7,
   "metadata": {},
   "outputs": [
    {
     "name": "stdout",
     "output_type": "stream",
     "text": [
      " * sqlite:///demo.db\n",
      "Done.\n"
     ]
    },
    {
     "data": {
      "text/html": [
       "<table>\n",
       "    <tr>\n",
       "        <th>sum(cat)</th>\n",
       "        <th>sum(dog)</th>\n",
       "        <th>sum(fish)</th>\n",
       "    </tr>\n",
       "    <tr>\n",
       "        <td>2</td>\n",
       "        <td>2</td>\n",
       "        <td>4</td>\n",
       "    </tr>\n",
       "</table>"
      ],
      "text/plain": [
       "[(2, 2, 4)]"
      ]
     },
     "execution_count": 7,
     "metadata": {},
     "output_type": "execute_result"
    }
   ],
   "source": [
    "%%sql \n",
    "\n",
    "select sum(cat), sum(dog), sum(fish) from tweets"
   ]
  },
  {
   "cell_type": "code",
   "execution_count": 8,
   "metadata": {},
   "outputs": [
    {
     "name": "stdout",
     "output_type": "stream",
     "text": [
      " * sqlite:///demo.db\n",
      "Done.\n"
     ]
    },
    {
     "data": {
      "text/html": [
       "<table>\n",
       "    <tr>\n",
       "        <th>sum(cat)</th>\n",
       "        <th>sum(dog)</th>\n",
       "        <th>sum(fish)</th>\n",
       "        <th>sum(taco)</th>\n",
       "    </tr>\n",
       "    <tr>\n",
       "        <td>2</td>\n",
       "        <td>2</td>\n",
       "        <td>4</td>\n",
       "        <td>3</td>\n",
       "    </tr>\n",
       "</table>"
      ],
      "text/plain": [
       "[(2, 2, 4, 3)]"
      ]
     },
     "execution_count": 8,
     "metadata": {},
     "output_type": "execute_result"
    }
   ],
   "source": [
    "%%sql \n",
    "\n",
    "select sum(cat), sum(dog), sum(fish), sum(taco) from tweets"
   ]
  },
  {
   "cell_type": "code",
   "execution_count": 3,
   "metadata": {},
   "outputs": [
    {
     "name": "stdout",
     "output_type": "stream",
     "text": [
      " * sqlite:///demo.db\n",
      "Done.\n"
     ]
    },
    {
     "data": {
      "text/html": [
       "<table>\n",
       "    <tr>\n",
       "        <th>count(cat)</th>\n",
       "        <th>count(dog)</th>\n",
       "    </tr>\n",
       "    <tr>\n",
       "        <td>1</td>\n",
       "        <td>1</td>\n",
       "    </tr>\n",
       "</table>"
      ],
      "text/plain": [
       "[(1, 1)]"
      ]
     },
     "execution_count": 3,
     "metadata": {},
     "output_type": "execute_result"
    }
   ],
   "source": [
    "%%sql \n",
    "\n",
    "select count(cat), count(dog) from tweets where cat!=0 and dog!=0;"
   ]
  },
  {
   "cell_type": "markdown",
   "metadata": {},
   "source": [
    "### Q1.2"
   ]
  },
  {
   "cell_type": "code",
   "execution_count": 10,
   "metadata": {},
   "outputs": [
    {
     "name": "stdout",
     "output_type": "stream",
     "text": [
      " * sqlite:///demo.db\n",
      "Done.\n",
      "Done.\n",
      "1 rows affected.\n",
      "1 rows affected.\n",
      "1 rows affected.\n",
      "1 rows affected.\n",
      "1 rows affected.\n",
      "1 rows affected.\n",
      "1 rows affected.\n",
      "1 rows affected.\n",
      "Done.\n"
     ]
    },
    {
     "data": {
      "text/html": [
       "<table>\n",
       "    <tr>\n",
       "        <th>image</th>\n",
       "        <th>location</th>\n",
       "        <th>time</th>\n",
       "        <th>people</th>\n",
       "    </tr>\n",
       "    <tr>\n",
       "        <td>A</td>\n",
       "        <td>New York</td>\n",
       "        <td>12:00</td>\n",
       "        <td>julia</td>\n",
       "    </tr>\n",
       "    <tr>\n",
       "        <td>B</td>\n",
       "        <td>New York</td>\n",
       "        <td>12:00</td>\n",
       "        <td>bob</td>\n",
       "    </tr>\n",
       "    <tr>\n",
       "        <td>B</td>\n",
       "        <td>Boston</td>\n",
       "        <td>12:00</td>\n",
       "        <td>kevin</td>\n",
       "    </tr>\n",
       "    <tr>\n",
       "        <td>C</td>\n",
       "        <td>Boston</td>\n",
       "        <td>22:00</td>\n",
       "        <td>bob</td>\n",
       "    </tr>\n",
       "    <tr>\n",
       "        <td>D</td>\n",
       "        <td>Vancouver</td>\n",
       "        <td>19:30</td>\n",
       "        <td>julia</td>\n",
       "    </tr>\n",
       "    <tr>\n",
       "        <td>E</td>\n",
       "        <td>Vancouver</td>\n",
       "        <td>20:45</td>\n",
       "        <td>alex</td>\n",
       "    </tr>\n",
       "    <tr>\n",
       "        <td>F</td>\n",
       "        <td>Toronto</td>\n",
       "        <td>02:15</td>\n",
       "        <td>julia</td>\n",
       "    </tr>\n",
       "    <tr>\n",
       "        <td>G</td>\n",
       "        <td>Toronto</td>\n",
       "        <td>22:00</td>\n",
       "        <td>jill</td>\n",
       "    </tr>\n",
       "</table>"
      ],
      "text/plain": [
       "[('A', 'New York', '12:00', 'julia'),\n",
       " ('B', 'New York', '12:00', 'bob'),\n",
       " ('B', 'Boston', '12:00', 'kevin'),\n",
       " ('C', 'Boston', '22:00', 'bob'),\n",
       " ('D', 'Vancouver', '19:30', 'julia'),\n",
       " ('E', 'Vancouver', '20:45', 'alex'),\n",
       " ('F', 'Toronto', '02:15', 'julia'),\n",
       " ('G', 'Toronto', '22:00', 'jill')]"
      ]
     },
     "execution_count": 10,
     "metadata": {},
     "output_type": "execute_result"
    }
   ],
   "source": [
    "%%sql\n",
    "\n",
    "DROP TABLE IF EXISTS image_data;\n",
    "\n",
    "CREATE TABLE image_data(image charvar(255), location charvar(255), time varchar(255), people varchar(255));\n",
    "\n",
    "INSERT INTO image_data VALUES(\"A\", \"New York\", \"12:00\", \"julia\");\n",
    "INSERT INTO image_data VALUES(\"B\", \"New York\", \"12:00\", \"bob\");\n",
    "INSERT INTO image_data VALUES(\"B\", \"Boston\", \"12:00\", \"kevin\");\n",
    "INSERT INTO image_data VALUES(\"C\", \"Boston\", \"22:00\", \"bob\");\n",
    "INSERT INTO image_data VALUES(\"D\", \"Vancouver\", \"19:30\", \"julia\");\n",
    "INSERT INTO image_data VALUES(\"E\", \"Vancouver\", \"20:45\", \"alex\");\n",
    "INSERT INTO image_data VALUES(\"F\", \"Toronto\", \"02:15\", \"julia\");\n",
    "INSERT INTO image_data VALUES(\"G\", \"Toronto\", \"22:00\", \"jill\");\n",
    "\n",
    "SELECT * FROM image_data;"
   ]
  },
  {
   "cell_type": "code",
   "execution_count": 3,
   "metadata": {},
   "outputs": [
    {
     "name": "stdout",
     "output_type": "stream",
     "text": [
      " * sqlite:///demo.db\n",
      "Done.\n"
     ]
    },
    {
     "data": {
      "text/html": [
       "<table>\n",
       "    <tr>\n",
       "        <th>location</th>\n",
       "        <th>count(people)</th>\n",
       "    </tr>\n",
       "    <tr>\n",
       "        <td>Boston</td>\n",
       "        <td>2</td>\n",
       "    </tr>\n",
       "    <tr>\n",
       "        <td>New York</td>\n",
       "        <td>2</td>\n",
       "    </tr>\n",
       "    <tr>\n",
       "        <td>Toronto</td>\n",
       "        <td>2</td>\n",
       "    </tr>\n",
       "    <tr>\n",
       "        <td>Vancouver</td>\n",
       "        <td>2</td>\n",
       "    </tr>\n",
       "</table>"
      ],
      "text/plain": [
       "[('Boston', 2), ('New York', 2), ('Toronto', 2), ('Vancouver', 2)]"
      ]
     },
     "execution_count": 3,
     "metadata": {},
     "output_type": "execute_result"
    }
   ],
   "source": [
    "%%sql\n",
    "\n",
    "SELECT location, count(people) FROM image_data group by location"
   ]
  },
  {
   "cell_type": "code",
   "execution_count": 11,
   "metadata": {},
   "outputs": [
    {
     "name": "stdout",
     "output_type": "stream",
     "text": [
      " * sqlite:///demo.db\n",
      "Done.\n"
     ]
    },
    {
     "data": {
      "text/html": [
       "<table>\n",
       "    <tr>\n",
       "        <th>count(people)</th>\n",
       "    </tr>\n",
       "    <tr>\n",
       "        <td>3</td>\n",
       "    </tr>\n",
       "</table>"
      ],
      "text/plain": [
       "[(3,)]"
      ]
     },
     "execution_count": 11,
     "metadata": {},
     "output_type": "execute_result"
    }
   ],
   "source": [
    "%%sql\n",
    "\n",
    "SELECT count(people) FROM image_data where people=\"julia\""
   ]
  },
  {
   "cell_type": "code",
   "execution_count": null,
   "metadata": {},
   "outputs": [],
   "source": []
  }
 ],
 "metadata": {
  "kernelspec": {
   "display_name": "Python 3",
   "language": "python",
   "name": "python3"
  },
  "language_info": {
   "codemirror_mode": {
    "name": "ipython",
    "version": 3
   },
   "file_extension": ".py",
   "mimetype": "text/x-python",
   "name": "python",
   "nbconvert_exporter": "python",
   "pygments_lexer": "ipython3",
   "version": "3.8.2"
  }
 },
 "nbformat": 4,
 "nbformat_minor": 4
}
